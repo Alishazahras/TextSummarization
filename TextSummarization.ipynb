{
  "cells": [
    {
      "cell_type": "markdown",
      "metadata": {
        "id": "BFi52LexH5t4"
      },
      "source": [
        "## Nama : Alisha Zahra Saadiya\n",
        "## NIM : 2501971742\n",
        "## Link Video : https://binusianorg-my.sharepoint.com/personal/alisha_saadiya_binus_ac_id/_layouts/15/guestaccess.aspx?share=ESzraNsI4D9MrN4DII5e5dsBxQum693OeeZwwwiRKEL5sA&nav=eyJyZWZlcnJhbEluZm8iOnsicmVmZXJyYWxBcHAiOiJPbmVEcml2ZUZvckJ1c2luZXNzIiwicmVmZXJyYWxBcHBQbGF0Zm9ybSI6IldlYiIsInJlZmVycmFsTW9kZSI6InZpZXciLCJyZWZlcnJhbFZpZXciOiJNeUZpbGVzTGlua0NvcHkifX0&e=PTnwym"
      ]
    },
    {
      "cell_type": "code",
      "execution_count": null,
      "metadata": {
        "id": "LYMpUakBH5t6",
        "outputId": "49ae0a38-1dec-462a-b7e7-3313e739926a"
      },
      "outputs": [
        {
          "name": "stdout",
          "output_type": "stream",
          "text": [
            "Requirement already satisfied: rouge-score in c:\\users\\alisha zahra\\anaconda3\\lib\\site-packages (0.1.2)\n",
            "Requirement already satisfied: absl-py in c:\\users\\alisha zahra\\anaconda3\\lib\\site-packages (from rouge-score) (2.0.0)\n",
            "Requirement already satisfied: nltk in c:\\users\\alisha zahra\\anaconda3\\lib\\site-packages (from rouge-score) (3.8.1)\n",
            "Requirement already satisfied: numpy in c:\\users\\alisha zahra\\anaconda3\\lib\\site-packages (from rouge-score) (1.24.3)\n",
            "Requirement already satisfied: six>=1.14.0 in c:\\users\\alisha zahra\\anaconda3\\lib\\site-packages (from rouge-score) (1.16.0)\n",
            "Requirement already satisfied: click in c:\\users\\alisha zahra\\anaconda3\\lib\\site-packages (from nltk->rouge-score) (8.1.7)\n",
            "Requirement already satisfied: joblib in c:\\users\\alisha zahra\\anaconda3\\lib\\site-packages (from nltk->rouge-score) (1.4.0)\n",
            "Requirement already satisfied: regex>=2021.8.3 in c:\\users\\alisha zahra\\anaconda3\\lib\\site-packages (from nltk->rouge-score) (2024.5.15)\n",
            "Requirement already satisfied: tqdm in c:\\users\\alisha zahra\\anaconda3\\lib\\site-packages (from nltk->rouge-score) (4.66.2)\n",
            "Requirement already satisfied: colorama in c:\\users\\alisha zahra\\anaconda3\\lib\\site-packages (from click->nltk->rouge-score) (0.4.6)\n",
            "Note: you may need to restart the kernel to use updated packages.\n"
          ]
        }
      ],
      "source": [
        "pip install rouge-score"
      ]
    },
    {
      "cell_type": "code",
      "execution_count": null,
      "metadata": {
        "id": "rdvu4axfH5t8"
      },
      "outputs": [],
      "source": [
        "import pandas as pd\n",
        "import numpy as np\n",
        "import nltk\n",
        "from nltk.corpus import stopwords\n",
        "from nltk.cluster.util import cosine_distance\n",
        "import networkx as nx\n",
        "from rouge_score import rouge_scorer"
      ]
    },
    {
      "cell_type": "code",
      "execution_count": null,
      "metadata": {
        "id": "wfN8tP9EH5t9",
        "outputId": "4f91a431-4d7d-47e6-e38f-1ed48875fccf"
      },
      "outputs": [
        {
          "name": "stderr",
          "output_type": "stream",
          "text": [
            "[nltk_data] Downloading package stopwords to C:\\Users\\Alisha\n",
            "[nltk_data]     Zahra\\AppData\\Roaming\\nltk_data...\n",
            "[nltk_data]   Package stopwords is already up-to-date!\n"
          ]
        },
        {
          "data": {
            "text/plain": [
              "True"
            ]
          },
          "execution_count": 3,
          "metadata": {},
          "output_type": "execute_result"
        }
      ],
      "source": [
        "# Download stopwords\n",
        "nltk.download('stopwords')"
      ]
    },
    {
      "cell_type": "code",
      "execution_count": null,
      "metadata": {
        "id": "yF2LSTuwH5t9"
      },
      "outputs": [],
      "source": [
        "def preprocess_text(content):\n",
        "    sentences = content.split(\". \")\n",
        "    processed_sentences = [sentence.replace(\"[^a-zA-Z]\", \" \").split(\" \") for sentence in sentences]\n",
        "    return processed_sentences\n"
      ]
    },
    {
      "cell_type": "code",
      "execution_count": null,
      "metadata": {
        "id": "E2OqeRsPH5t9"
      },
      "outputs": [],
      "source": [
        "def sentence_similarity(sent1, sent2, stopwords=None):\n",
        "    if stopwords is None:\n",
        "        stopwords = []\n",
        "\n",
        "    sent1 = [w.lower() for w in sent1]\n",
        "    sent2 = [w.lower() for w in sent2]\n",
        "\n",
        "    all_words = list(set(sent1 + sent2))\n",
        "\n",
        "    vector1 = [0] * len(all_words)\n",
        "    vector2 = [0] * len(all_words)\n",
        "\n",
        "    for w in sent1:\n",
        "        if w in stopwords:\n",
        "            continue\n",
        "        vector1[all_words.index(w)] += 1\n",
        "\n",
        "    for w in sent2:\n",
        "        if w in stopwords:\n",
        "            continue\n",
        "        vector2[all_words.index(w)] += 1\n",
        "\n",
        "    return 1 - cosine_distance(vector1, vector2)"
      ]
    },
    {
      "cell_type": "code",
      "execution_count": null,
      "metadata": {
        "id": "B11bJ5fyH5t-"
      },
      "outputs": [],
      "source": [
        "def build_similarity_matrix(sentences, stop_words):\n",
        "    similarity_matrix = np.zeros((len(sentences), len(sentences)))\n",
        "\n",
        "    for idx1 in range(len(sentences)):\n",
        "        for idx2 in range(len(sentences)):\n",
        "            if idx1 == idx2:\n",
        "                continue\n",
        "            similarity_matrix[idx1][idx2] = sentence_similarity(sentences[idx1], sentences[idx2], stop_words)\n",
        "\n",
        "    return similarity_matrix"
      ]
    },
    {
      "cell_type": "code",
      "execution_count": null,
      "metadata": {
        "id": "wGjb70vNH5t-"
      },
      "outputs": [],
      "source": [
        "def generate_summary(content, top_n):\n",
        "    stop_words = stopwords.words('indonesian')\n",
        "    summarize_text = []\n",
        "\n",
        "    sentences = preprocess_text(content)\n",
        "    sentence_similarity_matrix = build_similarity_matrix(sentences, stop_words)\n",
        "    sentence_similarity_graph = nx.from_numpy_array(sentence_similarity_matrix)\n",
        "    scores = nx.pagerank(sentence_similarity_graph)\n",
        "    ranked_sentence = sorted(((scores[i], s) for i, s in enumerate(sentences)), reverse=True)\n",
        "\n",
        "    for i in range(top_n):\n",
        "        summarize_text.append(\" \".join(ranked_sentence[i][1]))\n",
        "\n",
        "    return \". \".join(summarize_text)"
      ]
    },
    {
      "cell_type": "code",
      "execution_count": null,
      "metadata": {
        "id": "sO1d3mu3H5t_"
      },
      "outputs": [],
      "source": [
        "def evaluate_summary(reference_summary, generated_summary):\n",
        "    scorer = rouge_scorer.RougeScorer(['rouge1', 'rouge2', 'rougeL'], use_stemmer=True)\n",
        "    scores = scorer.score(reference_summary, generated_summary)\n",
        "    return scores"
      ]
    },
    {
      "cell_type": "code",
      "execution_count": null,
      "metadata": {
        "id": "OXSipy0rH5t_"
      },
      "outputs": [],
      "source": [
        "# Read data\n",
        "df = pd.read_csv(\"dataset.csv\")"
      ]
    },
    {
      "cell_type": "code",
      "execution_count": null,
      "metadata": {
        "id": "GWkua-dHH5t_"
      },
      "outputs": [],
      "source": [
        "summaries = {'top_3': [], 'top_5': []}"
      ]
    },
    {
      "cell_type": "code",
      "execution_count": null,
      "metadata": {
        "id": "nt_Dfqu1H5t_",
        "outputId": "5e39643f-7223-4184-9ef8-a928e000915d"
      },
      "outputs": [
        {
          "name": "stdout",
          "output_type": "stream",
          "text": [
            "\n",
            "Original Content:\n",
            "TEMPO.CO, Jakarta -Ketua Umum Partai Gerindra, Prabowo Subianto, menerima kunjungan Ketua Umum Partai NasDem, Surya Paloh, di kediamannya di Hambalang, Bogor, pada Ahad, 5 Maret 2023. Dalam pertemuan itu, Prabowo menyatakan bahwa mereka sepakat untuk saling menghormati keputusan politik masing-masing.Prabowo mengakui adanya pembicaraan soal politik dalam pertemuan itu. Dia menyatakan bahwa dirinya maupun Surya Paloh sepakat untuk bersaing secara sehat dalam Pemilu dan Pilpres 2024.Menteri Pertahanan itu menyatakan bahwa mereka sepakat untuk mengedepankan perdamaian dan kerukunan bangsa dalam persaingan memenangkan pesta demokrasi tersebut.\"Intinya tadi pembicaraan sangat cair setelah kita makan siang kemudian kita tadi minum kopi dan saya bicara cukup luas. Kami dapat suatu kesimpulan untuk sepakat saling menghormati keputusan politik masing-masing,\" kata Prabowo usai pertemuan itu.\"Kami sepakat karena kami ingin suasana bangsa dan negara selalu dalam keadaan damai, rukun dalam keadaan bersatu bahwa persaingan, kita tidak boleh takut dalam oposisi. Selalu dalam rangka NKRI dan Pancasila dan selalu dalam rangka Bhineka tunggal Ika,\" kata dia.\"Jadi kita akan berjuang di pemilu yang akan datang, pemilu yang baik, kondusif, dan kualitas yang lebih baik dari yang dulu dulu dan yang terpenting pemilu yang jujur dan adil,\" ujarnya.Pertemuan dua sahabatKunjungan Surya Paloh ini merupakan balasan dari kunjungan Prabowo Subianto ke Kantor DPP NasDem pada Juni tahun lalu. Prabowo menyatakan bahwa pertemuan tersebut merupakan kunjungan dua orang sahabat. Dia menyinggung persahabatan dengan Surya saat mereka masih sama-sama bernaung di Partai Golkar.\"Saya mendapat kehormatan kunjungan balasan dari Surya Paloh ketua umum partai Nasdem saya ingin menyatakan karena saya bersahabat dengan beliau jauh dari sebelum ketua partai dan sebelum saya ketua partai, kita bersahabat saat masih muda dan sekarang masih muda,\" kata Prabowo.\"Jadi ini adalah pertemuan dua sahabat yang kebetulan hari ini kita berkecimpung di bidang politik sebagai warga negara, sebagai patroliotin,\" ujarnya.Pada pertemuan Juni lalu, Prabowo dan Surya masih membuka peluang Gerindra dan NasDem menjalin koalisi.NasDem dan Gerindra sama-sama telah memiliki koalisiNasDem saat ini diketahui tengah mematangkan Koalisi Perubahan bersama Partai Demokrat dan Partai Keadilan Sejahtera (PKS). Ketiga partai itu telah sepakat untuk mengusung mantan Gubernur DKI Jakarta, Anies Baswedan, sebagai calon presiden.Sementara Gerindra telah membangun Koalisi Kebangkitan Indonesia Raya dengan Partai Kebangkitan Bangsa (PKB). Koalisi ini belum menentukan siapa yang akan mereka usung sebagai Capres dan Cawapres.Gerindra di satu sisi telah mendeklarasikan Prabowo Subianto sebagai Capres yang akan mereka usung. PKB di sisi lain juga telah mendeklarasikan ketua umum mereka, Muhaimin Iskandar, sebagai Capres atau Cawapres.Meskipun berbeda koalisi, Prabowo Subianto memastikan komunikasinya dengan Surya Paloh akan semakin intensif ke depannya.\"Kita sepakat ini komunikasi politik lebih intensif yang dilakukan semua pihak maka saya ucapkan Terimakasih dengan kunjungan ini, pak surya jauh-jauh dari Jakarta dalam ucapan beliau jauh-jauh artinya itu ada niat bukan basa basi,\" kata Prabowo.\n",
            "\n",
            "Top 3 Summary:\n",
            "Dia menyinggung persahabatan dengan Surya saat mereka masih sama-sama bernaung di Partai Golkar.\"Saya mendapat kehormatan kunjungan balasan dari Surya Paloh ketua umum partai Nasdem saya ingin menyatakan karena saya bersahabat dengan beliau jauh dari sebelum ketua partai dan sebelum saya ketua partai, kita bersahabat saat masih muda dan sekarang masih muda,\" kata Prabowo.\"Jadi ini adalah pertemuan dua sahabat yang kebetulan hari ini kita berkecimpung di bidang politik sebagai warga negara, sebagai patroliotin,\" ujarnya.Pada pertemuan Juni lalu, Prabowo dan Surya masih membuka peluang Gerindra dan NasDem menjalin koalisi.NasDem dan Gerindra sama-sama telah memiliki koalisiNasDem saat ini diketahui tengah mematangkan Koalisi Perubahan bersama Partai Demokrat dan Partai Keadilan Sejahtera (PKS). Dalam pertemuan itu, Prabowo menyatakan bahwa mereka sepakat untuk saling menghormati keputusan politik masing-masing.Prabowo mengakui adanya pembicaraan soal politik dalam pertemuan itu. PKB di sisi lain juga telah mendeklarasikan ketua umum mereka, Muhaimin Iskandar, sebagai Capres atau Cawapres.Meskipun berbeda koalisi, Prabowo Subianto memastikan komunikasinya dengan Surya Paloh akan semakin intensif ke depannya.\"Kita sepakat ini komunikasi politik lebih intensif yang dilakukan semua pihak maka saya ucapkan Terimakasih dengan kunjungan ini, pak surya jauh-jauh dari Jakarta dalam ucapan beliau jauh-jauh artinya itu ada niat bukan basa basi,\" kata Prabowo.\n",
            "\n",
            "Top 5 Summary:\n",
            "Dia menyinggung persahabatan dengan Surya saat mereka masih sama-sama bernaung di Partai Golkar.\"Saya mendapat kehormatan kunjungan balasan dari Surya Paloh ketua umum partai Nasdem saya ingin menyatakan karena saya bersahabat dengan beliau jauh dari sebelum ketua partai dan sebelum saya ketua partai, kita bersahabat saat masih muda dan sekarang masih muda,\" kata Prabowo.\"Jadi ini adalah pertemuan dua sahabat yang kebetulan hari ini kita berkecimpung di bidang politik sebagai warga negara, sebagai patroliotin,\" ujarnya.Pada pertemuan Juni lalu, Prabowo dan Surya masih membuka peluang Gerindra dan NasDem menjalin koalisi.NasDem dan Gerindra sama-sama telah memiliki koalisiNasDem saat ini diketahui tengah mematangkan Koalisi Perubahan bersama Partai Demokrat dan Partai Keadilan Sejahtera (PKS). Dalam pertemuan itu, Prabowo menyatakan bahwa mereka sepakat untuk saling menghormati keputusan politik masing-masing.Prabowo mengakui adanya pembicaraan soal politik dalam pertemuan itu. PKB di sisi lain juga telah mendeklarasikan ketua umum mereka, Muhaimin Iskandar, sebagai Capres atau Cawapres.Meskipun berbeda koalisi, Prabowo Subianto memastikan komunikasinya dengan Surya Paloh akan semakin intensif ke depannya.\"Kita sepakat ini komunikasi politik lebih intensif yang dilakukan semua pihak maka saya ucapkan Terimakasih dengan kunjungan ini, pak surya jauh-jauh dari Jakarta dalam ucapan beliau jauh-jauh artinya itu ada niat bukan basa basi,\" kata Prabowo.. Kami dapat suatu kesimpulan untuk sepakat saling menghormati keputusan politik masing-masing,\" kata Prabowo usai pertemuan itu.\"Kami sepakat karena kami ingin suasana bangsa dan negara selalu dalam keadaan damai, rukun dalam keadaan bersatu bahwa persaingan, kita tidak boleh takut dalam oposisi. Prabowo menyatakan bahwa pertemuan tersebut merupakan kunjungan dua orang sahabat\n",
            "\n",
            "\n",
            "Original Content:\n",
            "TEMPO.CO, Jakarta -Komisi Nasional Hak Asasi Manusia akan menurunkan tim untuk menginvestigasi dugaan kekerasan aparat di Wamena, Papua. Komisioner Komnas HAM Hari Kurniawan mengatakan tim tersebut independen dengan tidak ada unsur dari TNI dan Polri.\"Tim investigasi Komnas HAM ini tidak melibatkan TNI-Polri karena mereka sebagai pihak yang diperiksa Komnas HAM konteks peristiwa Wamena,\" ujar dia pada Jum'at 3 Maret 2023.Ihwal perkembangan investigasi, Hari mengatakan tim independen Komnas HAM masih mengembangkan fakta-fakta di lapangan. Menurutnya tim baru mendapatkan temuan awal.\"Hasil investigasi awal memang ada isu penculikan anak. Ini kan belum sedetail itu. Baru ada informasi bahwa pelaku sudah diamankan oleh polisi,\" kata Hari saat ditemui di Kantor Komnas HAM, Jakarta.Hari berujar tim Komnas HAM belum menemukan indikasi penculikan. Namun, kata dia, tim sudah menemukan indikasi kekerasan aparat terhadap masyarakat sipil. \"Kesimpulan awal, ya. Tapi teman-teman di Wamena masih terus bekerja di sana,\" ujar dia.Hari membenarkan ada dugaan kekerasan yang dilakukan aparat. Meski begitu, kata dia, masih terlalu dini untuk menyimpulkan hal tersebut. \"Ada dugaan aparat terlibat di situ, tapi saya belum berani berbicara detail. Sebab masih dilakukan investigasi,\" kata Hari.Mengenai dugaan adanya penembakan oleh aparat, Hari mengatakan hingga saat ini tim yang dikirim masih belum menemukannya.\"Belum, kalau Komnas HAM belum menemukannya. Makanya tadi dibilang untuk memperdalam investigasi pekan depan untuk turunkan tim ke Wamena,\" kata Hari.Dipicu Isu Penculikan AnakKekerasan di Wamena, Papua, 23 Februari 2023 bermula dari rumor penculikan anak oleh dua orang pedagang. Massa mengamuk setelah melihat dua orang penjual kelontong menggunakan mobil dan menuduh mereka sebagai penculik. Massa yang marah kemudian terprovokasi meski tokoh masyarakat berupaya menenangkannya. Massa tetap menyerang aparat. Pasca kejadian tersebut, sejumlah mahasiswa Papua mengadakan aksi di depan Kantor Komnas HAM pada 3 Maret 2023 lalu. Aksi tersebut dilakukan untuk mendesak Komnas HAM menerjunkan tim untuk menyelidiki kasus tersebut.\"Itu kami mau nuntut melaporkan peristiwa di Wamena dan kami follow up peristiwa sebelumnya kami laporkan yaitu laporan penyiksaan TNI di puncak dan itu dilakukan kepada anak di bawah umur,\" kata Koordinator Lapangan Aksi Front Mahasiswa Papua Rudi Kogoya.Baca Juga: Warga Wamena Ricuh karena Isu Penculikan Anak, Massa Bakar Ruko hingga Lempari Polisi dengan Batu\n",
            "\n",
            "Top 3 Summary:\n",
            "Namun, kata dia, tim sudah menemukan indikasi kekerasan aparat terhadap masyarakat sipil. Komisioner Komnas HAM Hari Kurniawan mengatakan tim tersebut independen dengan tidak ada unsur dari TNI dan Polri.\"Tim investigasi Komnas HAM ini tidak melibatkan TNI-Polri karena mereka sebagai pihak yang diperiksa Komnas HAM konteks peristiwa Wamena,\" ujar dia pada Jum'at 3 Maret 2023.Ihwal perkembangan investigasi, Hari mengatakan tim independen Komnas HAM masih mengembangkan fakta-fakta di lapangan. Baru ada informasi bahwa pelaku sudah diamankan oleh polisi,\" kata Hari saat ditemui di Kantor Komnas HAM, Jakarta.Hari berujar tim Komnas HAM belum menemukan indikasi penculikan\n",
            "\n",
            "Top 5 Summary:\n",
            "Namun, kata dia, tim sudah menemukan indikasi kekerasan aparat terhadap masyarakat sipil. Komisioner Komnas HAM Hari Kurniawan mengatakan tim tersebut independen dengan tidak ada unsur dari TNI dan Polri.\"Tim investigasi Komnas HAM ini tidak melibatkan TNI-Polri karena mereka sebagai pihak yang diperiksa Komnas HAM konteks peristiwa Wamena,\" ujar dia pada Jum'at 3 Maret 2023.Ihwal perkembangan investigasi, Hari mengatakan tim independen Komnas HAM masih mengembangkan fakta-fakta di lapangan. Baru ada informasi bahwa pelaku sudah diamankan oleh polisi,\" kata Hari saat ditemui di Kantor Komnas HAM, Jakarta.Hari berujar tim Komnas HAM belum menemukan indikasi penculikan. Sebab masih dilakukan investigasi,\" kata Hari.Mengenai dugaan adanya penembakan oleh aparat, Hari mengatakan hingga saat ini tim yang dikirim masih belum menemukannya.\"Belum, kalau Komnas HAM belum menemukannya. Aksi tersebut dilakukan untuk mendesak Komnas HAM menerjunkan tim untuk menyelidiki kasus tersebut.\"Itu kami mau nuntut melaporkan peristiwa di Wamena dan kami follow up peristiwa sebelumnya kami laporkan yaitu laporan penyiksaan TNI di puncak dan itu dilakukan kepada anak di bawah umur,\" kata Koordinator Lapangan Aksi Front Mahasiswa Papua Rudi Kogoya.Baca Juga: Warga Wamena Ricuh karena Isu Penculikan Anak, Massa Bakar Ruko hingga Lempari Polisi dengan Batu\n",
            "\n",
            "\n",
            "Original Content:\n",
            "TEMPO.CO, Jakarta - Wacana Pemilu 2024 ditunda kembali mencuat. Terbaru, Pengadilan Negeri atau PN Jakarta Pusat mengetok palu Pemilu 2024 ditunda hingga 2025. Keputusan tersebut tertuang dalam putusan perdata yang diajukan Partai Prima dengan tergugat Komisi Pemilihan Umum.Menghukum tergugat (KPU) untuk tidak melaksanakan sisa tahapan Pemilihan Umum 2024 sejak putusan ini diucapkan dan melaksanakan tahapan Pemilihan Umum dari awal selama lebih kurang 2 tahun 4 bulan tujuh hari, seperti dikutip dari salinan putusan, Kamis, 2 Maret 2023.Vonis Pengadilan Negeri Jakarta Pusat itu menambah daftar pewacana penundaan Pemilu 2024. Berikut sejumlah pihak yang pernah menggaungkan agar Pemilu ditunda.Ketua Umum Golkar Airlangga Hartarto (tengah), Ketua Umum PAN Zulkifli Hasan (kiri) dan Plt Ketua Umum PPP Mardiono, melakukan pertemuan di Restoran Bunga Rampai, Jakarta, Rabu, 30 November 2022. Para ketua umum Partai Koalisi Indonesia Bersatu (KIB) gelar pertemuan membahas rencana KIB jelang pemilu 2024, sekaligus menjalin silaturahmi. TEMPO/ Febri Angga Palguna1. PLt Ketum PPP Muhammad MardionoWacana penundaan pemilu 2024 kembali bergulir pada awal Februari lalu. Usulan itu diembuskan lagi oleh pelaksana tugas Ketua Umum Partai Persatuan Pembangunan (PPP) Muhammad Mardiono. Sosok yang juga menjabat sebagai Utusan Khusus Presiden Bidang Kerja Sama Pengentasan Kemiskinan dan Ketahanan Pangan itu awalnya menilai masyarakat tidak terlalu antusias menyambut Pemilu 2024. Dia juga mengaku sempat berkeliling ke-30 provinsi dan melihat masyarakat lebih peduli pada pemulihan ekonomi ketimbang Pemilu.Antusiasme masyarakat menanggapi pemilu itu saya lihat tidak begitu respon tinggi, tetapi agak dingin, ujarnya saat dihubungi, Sabtu, 4 Februari 2023.Mardiono mengingatkan, Indonesia termasuk negara yang masih pada tahap recovery dari trauma pandemi Covid-19. Sehingga, menurutnya, pelaksanaan tahun politik jangan sampai merusak pemulihan masyarakat dari trauma usai hadapi dua tahun belakangan akibat Covid-19. Jangan sampai tahun politik ini mengganggu pada situasi masyarakat atau rakyat yang masih trauma itu, ujarnya.2. Ketum Partai Golkar Airlangga HartartoKetum Partai Golkar Airlangga Hartarto merupakan salah satu pihak yang mendukung wacana Cak Imin. Bahkan pihaknya mengatakan wacana penundaan Pemilu 2024 tersebut merupakan aspirasi dari masyarakat. Hal ini disampaikan Airlangga seusai bertemu Ketua Umum Partai NasDem Surya Paloh di NasDem Tower, Jakarta, Kamis, 10 Maret 2022.Kita musti mengerti yang namanya aspirasi itu tidak boleh ditolak, apalagi kita suara Golkar suara rakyat, tutur Airlangga.Lagi pula, kata Airlangga, Presiden Joko Widodo atau Jokowi menyatakan bahwa aspirasi demokratis tetap harus dipegang teguh. Terlebih tantangan permasalahan yang dihadapi Indonesia ke depan makin berat.3. Ketum PAN Zulkifli HasanKetum Partai Amanat Nasional ata7 PAN, Zulkifli Hasan, juga pernah menyatakan dukungan atas usulan penundaan Pemilu 2024 oleh Cak Imin. Menurut sosok yang akrab dipanggil Zulhas itu, terdapat sejumlah alasan dirinya mendukung usulan tersebut. Antara lain soal angka kepuasan terhadap pemerintahan Jokowi.Berbagai survei menyebut angkanya (kepuasan terhadap Jokowi) di atas 73 persen, ujar Zulhas di Gedung Parlemen, Jumat, 28 Januari 2022.Jokowi masih harus menjabat setelah 2024, menurut Hasan karena pertama situasi pandemi yang masih berlangsung dan memerlukan perhatian khusus. Lalu kondisi perekonomian yang belum stabil, sehingga pemerintah, dunia usaha, maupun masyarakat masih perlu melakukan pemulihan. Perkembangan situasi konflik global yang perlu diantisipasi, di antaranya perang Rusia-Ukraina dan tidak menentunya harga minyak dunia.Lalu anggaran Pemilu yang justru membengkak dari rencana efisiensi, sehingga lebih baik dikonsentrasikan untuk kepentingan kesejahteraan rakyat. Terakhir, keberlangsungan program-program pembangunan nasional yang sebelumnya tertunda akibat pandemi. Mempertimbangkan hal-hal tersebut, serta setelah mendengar masukan dan aspirasi dari berbagai kalangan, PAN setuju bahwa pemilu perlu dipertimbangkan untuk diundur, kata Zulhas.Wakil Ketua DPR RI Abdul Muhaimin Iskandar. Foto: Dok/Man4. Ketum PKB Muhaimin IskandarWacana penundaan Pemilu 2024 juga pernah diutarakan Ketum Partai Kebangkitan Bangsa atau PKB Muhaimin Iskandar alias Cak Imin. Wakil Ketua DPR RI itu mengusulkan agar Pemilu 2024 ditunda selama satu atau dua tahun. Saya mengusulkan Pemilu 2024 ditunda satu atau dua tahun. Usulan ini nanti akan saya sampaikan ke pimpinan-pimpinan partai dan presiden, ujar Muhaimin lewat keterangan tertulis, Rabu, 23 Februari 2022.Menurut Muhaimin, wacana itu terlintas olehnya usai bersua dengan pelaku usaha mikro, pengusaha dan para analis ekonomi dari berbagai perbankan di Ruang Delegasi DPR, Nusantara III, Jakarta, Rabu, 23 Februari 2022. Mereka memprediksi Indonesia akan mengalami momentum perbaikan ekonomi usai dua tahun pandemi Covid-19. Menurut Muhaimin, momentum ini tak boleh terganggu dengan adanya pesta politik.Menteri Koordinator Bidang Kemaritiman dan Investasi Luhut Binsar Pandjaitan. ANTARA/HO-Kemenko Marves/Vebianto Faladi/aa. Handout Kemenko Marves/Vebianto Faladi5. Menkomarves Luhut Binsar PandjaitanMenteri Koordinator Bidang Kemaritiman dan Investasi atau Menkomarves Luhut Binsar Pandjaitan merupakan salah satu pihak yang mendukung penundaan Pemilu 2024. Dalam sebuah video wawancara yang diunggah YouTube, Luhut mengklaim memiliki data bahwa wacana penundaan pemilu didukung oleh 110 juta warganet.Ia menepis tudingan sejumlah pihak yang meragukan validitas data tersebut, maupun tudingan yang menyebut bahwa big data itu tidak benar.Ya pasti adalah, masa bohong, kata Luhut usai menghadiri acara Kick-off DEWG Presidensi G-20 2022 di Hotel Grand Hyatt, Jakarta, Selasa, 15 Maret 2022.Pilihan Editor: Penundaan Pemilu 2024 Bisa Buat Jokowi 3 Periode? Ini Mereka yang Pernah MenyuarakanIkuti berita terkini dari Tempo di Google News, klikdi sini.\n",
            "\n",
            "Top 3 Summary:\n",
            "Bahkan pihaknya mengatakan wacana penundaan Pemilu 2024 tersebut merupakan aspirasi dari masyarakat. Saya mengusulkan Pemilu 2024 ditunda satu atau dua tahun. Wakil Ketua DPR RI itu mengusulkan agar Pemilu 2024 ditunda selama satu atau dua tahun\n",
            "\n",
            "Top 5 Summary:\n",
            "Bahkan pihaknya mengatakan wacana penundaan Pemilu 2024 tersebut merupakan aspirasi dari masyarakat. Saya mengusulkan Pemilu 2024 ditunda satu atau dua tahun. Wakil Ketua DPR RI itu mengusulkan agar Pemilu 2024 ditunda selama satu atau dua tahun. PLt Ketum PPP Muhammad MardionoWacana penundaan pemilu 2024 kembali bergulir pada awal Februari lalu. TEMPO.CO, Jakarta - Wacana Pemilu 2024 ditunda kembali mencuat\n",
            "\n"
          ]
        }
      ],
      "source": [
        "# Generate summaries\n",
        "for i, row in df.iterrows():\n",
        "    content = row['content']\n",
        "    summary_top_3 = generate_summary(content, 3)\n",
        "    summary_top_5 = generate_summary(content, 5)\n",
        "    summaries['top_3'].append(summary_top_3)\n",
        "    summaries['top_5'].append(summary_top_5)\n",
        "\n",
        "    print(f\"\\nOriginal Content:\\n{content}\\n\")\n",
        "    print(f\"Top 3 Summary:\\n{summary_top_3}\\n\")\n",
        "    print(f\"Top 5 Summary:\\n{summary_top_5}\\n\")"
      ]
    },
    {
      "cell_type": "code",
      "execution_count": null,
      "metadata": {
        "id": "A118Pf1VH5t_"
      },
      "outputs": [],
      "source": [
        "# Evaluate summaries using ROUGE score\n",
        "rouge_scores = {'top_3': [], 'top_5': []}\n",
        "for i, row in df.iterrows():\n",
        "    reference_summary = row['summary']\n",
        "    rouge_scores['top_3'].append(evaluate_summary(reference_summary, summaries['top_3'][i]))\n",
        "    rouge_scores['top_5'].append(evaluate_summary(reference_summary, summaries['top_5'][i]))"
      ]
    },
    {
      "cell_type": "code",
      "execution_count": null,
      "metadata": {
        "id": "x09UAplDH5t_",
        "outputId": "a4f16458-1f7a-411f-fbbe-f21340205ccc"
      },
      "outputs": [
        {
          "data": {
            "text/plain": [
              "{'rouge1': Score(precision=0.2777777777777778, recall=0.2631578947368421, fmeasure=0.27027027027027023),\n",
              " 'rouge2': Score(precision=0.17142857142857143, recall=0.16216216216216217, fmeasure=0.16666666666666669),\n",
              " 'rougeL': Score(precision=0.25, recall=0.23684210526315788, fmeasure=0.24324324324324326)}"
            ]
          },
          "execution_count": 13,
          "metadata": {},
          "output_type": "execute_result"
        }
      ],
      "source": [
        "evaluate_summary(reference_summary, summaries['top_3'][i])"
      ]
    },
    {
      "cell_type": "markdown",
      "metadata": {
        "id": "VA-1FB9IH5uA"
      },
      "source": [
        "- ROUGE-1:\n",
        "\n",
        "    Precision: 0.2777\n",
        "    \n",
        "    Ini berarti dari semua unigram (kata tunggal) yang ada dalam summary yang dihasilkan, sekitar 27.77% di antaranya juga ada dalam summary pada dataset.\n",
        "\n",
        "    Recall: 0.2632\n",
        "    \n",
        "    Ini berarti dari semua unigram yang ada dalam summary pada dataset, sekitar 26.32% di antaranya juga ada dalam summary yang dihasilkan.\n",
        "    \n",
        "    F1-score: 0.2703\n",
        "    \n",
        "    Ini adalah harmonic mean dari precision dan recall untuk ROUGE-1, yang memberikan nilai gabungan dari kedua metrik tersebut.\n",
        "\n",
        "- ROUGE-2:\n",
        "\n",
        "    Precision: 0.1714\n",
        "\n",
        "    Ini berarti dari semua bigram (pasangan kata) yang ada dalam summary yang dihasilkan, sekitar 17.14% di antaranya juga ada dalam summary pada dataset.\n",
        "    \n",
        "    Recall: 0.1622\n",
        "    \n",
        "    Ini berarti dari semua bigram yang ada dalam summary pada dataset, sekitar 16.22% di antaranya juga ada dalam summary yang dihasilkan.\n",
        "\n",
        "    F1-score: 0.1667\n",
        "\n",
        "    Ini adalah harmonic mean dari precision dan recall untuk ROUGE-2.\n",
        "\n",
        "- ROUGE-L:\n",
        "\n",
        "    Precision: 0.2500\n",
        "    \n",
        "    Ini berarti dari semua unit LCS (Longest Common Subsequence) antara summary yang dihasilkan dan summary pada dataset, sekitar 25.00% di antaranya adalah unit LCS dari summary pada dataset.\n",
        "    \n",
        "    Recall: 0.2368\n",
        "    \n",
        "    Ini berarti dari semua unit LCS antara summary yang dihasilkan dan summary pada dataset, sekitar 23.68% di antaranya adalah unit LCS dari summary yang dihasilkan.\n",
        "    \n",
        "    F1-score: 0.2432\n",
        "    \n",
        "    Ini adalah harmonic mean dari precision dan recall untuk ROUGE-L."
      ]
    },
    {
      "cell_type": "code",
      "execution_count": null,
      "metadata": {
        "id": "RK-ib7jmH5uA",
        "outputId": "b181da00-e37a-4091-d7f4-92f494a23f91"
      },
      "outputs": [
        {
          "data": {
            "text/plain": [
              "{'rouge1': Score(precision=0.3050847457627119, recall=0.47368421052631576, fmeasure=0.3711340206185567),\n",
              " 'rouge2': Score(precision=0.20689655172413793, recall=0.32432432432432434, fmeasure=0.25263157894736843),\n",
              " 'rougeL': Score(precision=0.22033898305084745, recall=0.34210526315789475, fmeasure=0.26804123711340205)}"
            ]
          },
          "execution_count": 14,
          "metadata": {},
          "output_type": "execute_result"
        }
      ],
      "source": [
        "evaluate_summary(reference_summary, summaries['top_5'][i])"
      ]
    },
    {
      "cell_type": "markdown",
      "metadata": {
        "id": "BDfUjSEaH5uA"
      },
      "source": [
        "- ROUGE-1:\n",
        "\n",
        "    Precision: 0.3051\n",
        "    \n",
        "    Sekitar 30.51% dari semua unigram (kata tunggal) yang ada dalam summary yang dihasilkan juga ada dalam summary pada dataset.\n",
        "    \n",
        "    Recall: 0.4737\n",
        "    \n",
        "    Sekitar 47.37% dari semua unigram yang ada dalam summary pada dataset juga ada dalam summary yang dihasilkan.\n",
        "    \n",
        "    F1-score: 0.3711\n",
        "    \n",
        "    Harmonic mean dari precision dan recall untuk ROUGE-1, memberikan nilai gabungan dari kedua metrik tersebut.\n",
        "\n",
        "- ROUGE-2:\n",
        "\n",
        "    Precision: 0.2069\n",
        "    \n",
        "    Sekitar 20.69% dari semua bigram (pasangan kata) yang ada dalam summary yang dihasilkan juga ada dalam summary pada dataset.\n",
        "    \n",
        "    Recall: 0.3243\n",
        "    \n",
        "    Sekitar 32.43% dari semua bigram yang ada dalam summary pada dataset juga ada dalam summary yang dihasilkan.\n",
        "    \n",
        "    F1-score: 0.2526\n",
        "    \n",
        "    Harmonic mean dari precision dan recall untuk ROUGE-2.\n",
        "\n",
        "- ROUGE-L:\n",
        "\n",
        "    Precision: 0.2203\n",
        "\n",
        "    Sekitar 22.03% dari semua unit LCS (Longest Common Subsequence) antara summary yang dihasilkan dan summary pada dataset adalah unit LCS dari summary pada dataset.\n",
        "    \n",
        "    Recall: 0.3421\n",
        "    \n",
        "    Sekitar 34.21% dari semua unit LCS antara summary yang dihasilkan dan summary pada dataset adalah unit LCS dari summary yang dihasilkan.\n",
        "    \n",
        "    F1-score: 0.2680\n",
        "    \n",
        "    Harmonic mean dari precision dan recall untuk ROUGE-L."
      ]
    },
    {
      "cell_type": "code",
      "execution_count": null,
      "metadata": {
        "id": "D4SWbeFtH5uA",
        "outputId": "bfbb879f-9d03-460d-f89b-68f64f1c3d57"
      },
      "outputs": [
        {
          "name": "stdout",
          "output_type": "stream",
          "text": [
            "Average ROUGE scores for Top 3 summary sentences:\n",
            "{'rouge1': 0.29429625768298534, 'rouge2': 0.1478015448603684, 'rougeL': 0.21173379983448637}\n",
            "Average ROUGE scores for Top 5 summary sentences:\n",
            "{'rouge1': 0.2922257132296727, 'rouge2': 0.16196305976452546, 'rougeL': 0.18969174733897684}\n"
          ]
        }
      ],
      "source": [
        "# Calculate average ROUGE scores\n",
        "avg_rouge_scores_top_3 = {key: np.mean([score[key].fmeasure for score in rouge_scores['top_3']]) for key in rouge_scores['top_3'][0]}\n",
        "avg_rouge_scores_top_5 = {key: np.mean([score[key].fmeasure for score in rouge_scores['top_5']]) for key in rouge_scores['top_5'][0]}\n",
        "\n",
        "print(\"Average ROUGE scores for Top 3 summary sentences:\")\n",
        "print(avg_rouge_scores_top_3)\n",
        "\n",
        "print(\"Average ROUGE scores for Top 5 summary sentences:\")\n",
        "print(avg_rouge_scores_top_5)"
      ]
    },
    {
      "cell_type": "markdown",
      "metadata": {
        "id": "YHwKBNthH5uA"
      },
      "source": [
        "- ROUGE-1\n",
        "    \n",
        "    Top 3 Summary Sentences: 0.294\n",
        "    \n",
        "    Top 5 Summary Sentences: 0.292\n",
        "    \n",
        "    ROUGE-1 mengukur persentase unigram (kata tunggal) yang cocok antara summary yang dihasilkan dan kolom summary pada dataset. Nilai ROUGE-1 untuk top 3 dan top 5 summary sentences hampir sama, menunjukkan bahwa pemilihan tiga atau lima kalimat terbaik menghasilkan proporsi kata yang hampir sama dalam kecocokannya dengan summary pada dataset.\n",
        "- ROUGE-2\n",
        "    \n",
        "    Top 3 Summary Sentences: 0.148\n",
        "    \n",
        "    Top 5 Summary Sentences: 0.162\n",
        "    \n",
        "    ROUGE-2 mengukur persentase bigram (dua kata berurutan) yang cocok. Nilai ROUGE-2 sedikit lebih tinggi untuk top 5 summary yang dihasilkan dibandingkan dengan top 3, menunjukkan bahwa memasukkan lebih banyak kalimat membantu menangkap lebih banyak konteks dua kata berurutan dari summary pada dataset.\n",
        "- ROUGE-L\n",
        "    \n",
        "    Top 3 Summary Sentences: 0.212\n",
        "    \n",
        "    Top 5 Summary Sentences: 0.190\n",
        "    \n",
        "    ROUGE-L mengukur kesamaan berbasis subsekuensi terpanjang yang ada di antara summary yang dihasilkan dan summary pada dataset. Nilai ROUGE-L untuk top 3 summary yang dihasilkan lebih tinggi dibandingkan dengan top 5. Ini menunjukkan bahwa tiga kalimat terbaik memiliki struktur yang lebih mirip dengan summary pada dataset dibandingkan dengan lima kalimat terbaik.  \n",
        "\n",
        "Berdasarkan hasil ini, pemilihan antara top 3 dan top 5 summary yang dihasilkan dapat disesuaikan dengan kebutuhan spesifik. Jika fokusnya adalah mendapatkan ringkasan yang lebih padat dan struktural, top 3 lebih cocok. Namun, jika summary yang lebih informatif dan kontekstual diinginkan, top 5 lebih tepat."
      ]
    }
  ],
  "metadata": {
    "colab": {
      "provenance": []
    },
    "kernelspec": {
      "display_name": "base",
      "language": "python",
      "name": "python3"
    },
    "language_info": {
      "codemirror_mode": {
        "name": "ipython",
        "version": 3
      },
      "file_extension": ".py",
      "mimetype": "text/x-python",
      "name": "python",
      "nbconvert_exporter": "python",
      "pygments_lexer": "ipython3",
      "version": "3.8.19"
    }
  },
  "nbformat": 4,
  "nbformat_minor": 0
}
